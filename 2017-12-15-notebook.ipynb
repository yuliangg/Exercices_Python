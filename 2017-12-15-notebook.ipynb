{
 "cells": [
  {
   "cell_type": "markdown",
   "metadata": {},
   "source": [
    "# Titulo\n",
    "\n",
    "\n",
    "#### this is small\n",
    "\n",
    "this is smaller text"
   ]
  },
  {
   "cell_type": "code",
   "execution_count": 13,
   "metadata": {},
   "outputs": [
    {
     "name": "stdout",
     "output_type": "stream",
     "text": [
      "/home/dsc/Untitled Folder\r\n"
     ]
    }
   ],
   "source": [
    "! pwd"
   ]
  },
  {
   "cell_type": "code",
   "execution_count": 14,
   "metadata": {},
   "outputs": [
    {
     "name": "stdout",
     "output_type": "stream",
     "text": [
      "'First one.ipynb'\r\n"
     ]
    }
   ],
   "source": [
    "!ls"
   ]
  },
  {
   "cell_type": "code",
   "execution_count": 16,
   "metadata": {},
   "outputs": [
    {
     "name": "stdout",
     "output_type": "stream",
     "text": [
      "   1: !ls\n",
      "   2: ! pwd\n",
      "   3: ! pwd\n",
      "   4: ! pwd\n",
      "   5: ! pwd\n",
      "   6: ! pwd\n",
      "   7: ! pwd\n",
      "   8: ! pwd\n",
      "   9: ! pwd\n",
      "  10: ! pwd\n",
      "  11: ! pwd\n",
      "  12: ! pwd\n",
      "  13: ! pwd\n",
      "  14: !ls\n"
     ]
    }
   ],
   "source": [
    "%history -n 1-14"
   ]
  },
  {
   "cell_type": "code",
   "execution_count": 18,
   "metadata": {},
   "outputs": [
    {
     "name": "stdout",
     "output_type": "stream",
     "text": [
      "53/1: # comment\n",
      "53/2: %run ./hello_world.py\n",
      "53/3: run ./hello_world.py\n",
      "53/4: a=5; b='aaaa'; c=True\n",
      "53/5: my_list=[1, 2,3]\n",
      "53/6: my_list[1]\n",
      "53/7: my_list[1]=4\n",
      "53/8: my_list\n",
      "53/9: c=[]\n",
      "53/10: my_list[4]=3\n",
      "53/11: my_list=[True, 'test', 23, 88.47]\n",
      "53/12: my_list[0]\n",
      "53/13: my_list[0]=2\n",
      "53/14: mi_tupla=()\n",
      "53/15: mi_tupla=(12,45,'test')\n",
      "53/16: mi_tupla\n",
      "53/17: mi_tupla[0]\n",
      "53/18: mi_tupla[0]=1\n",
      "53/19: a=5\n",
      "53/20: typea)\n",
      "53/21: type(a)\n",
      "53/22: a='text'\n",
      "53/23: type(a)\n",
      "53/24: isinstance(a, str)\n",
      "53/25: a=[1,2, 3]\n",
      "53/26: b=a\n",
      "53/27: a.append(4)\n",
      "53/28: b\n",
      "53/29: id(a)\n",
      "53/30: id(b)\n",
      "53/31: c=a.copy\n",
      "53/32: id(c)\n",
      "53/33: a=6\n",
      "53/34: b=a\n",
      "53/35: a=7\n",
      "53/36: b\n",
      "53/37: lista=[1,2]\n",
      "53/38: id(lista)\n",
      "53/39: lista=[]\n",
      "53/40: id(lista)\n",
      "53/41:  lista.append(4)\n",
      "53/42: id(lista)\n",
      "53/43: a=4\n",
      "53/44: id(a)\n",
      "53/45: a=4\n",
      "53/46: id(a)\n",
      "53/47: a=5\n",
      "53/48: id(a)\n",
      "53/49: a='text'\n",
      "53/50: type(a)\n",
      "53/51: dir(a)\n",
      "53/52: hasattr(a, 'split')\n",
      "53/53: nombre_func(objeto)\n",
      "53/54: nombe.jhh=1\n",
      "53/55: nombe_jhh=1\n",
      "53/56: a=\"345\"\n",
      "53/57: a=345\n",
      "53/58: str(a)\n",
      "53/59: a=345\n",
      "53/60: s='3.14'\n",
      "53/61: fval=float(s)\n",
      "53/62: fval\n",
      "53/63: type(fval)\n",
      "53/64: bool('0')\n",
      "53/65: bool(0)\n",
      "53/66: x=1\n",
      "53/67:\n",
      "if x<0:\n",
      "  print('nooo')\n",
      "53/68:\n",
      "if x<4:\n",
      "  print('nooo')\n",
      "53/69:\n",
      "if x<4:\n",
      "    print('nooo')\n",
      "53/70:\n",
      "if x<4:\n",
      "print('nooo')\n",
      "53/71:\n",
      "if x<4:\n",
      " print('nooo')\n",
      "53/72:\n",
      "if x<4:\n",
      " print('nooo')\n",
      "  print('second')\n",
      "53/73: if x<4:print('second')\n",
      "53/74:\n",
      "if x<0:\n",
      "    print ('negative')\n",
      "elif x==0:\n",
      "    print ('zero')\n",
      "else:\n",
      "    print('positive')\n",
      "53/75: sequence=[1,2, None, 4, None, 5]\n",
      "53/76: total=0\n",
      "53/77:\n",
      "for value in sequence:\n",
      "    if value is None:\n",
      "        continue\n",
      "    total +=value\n",
      "53/78: total\n",
      "53/79: sequence =[1,2, 0, 4, 6, 5, 2, 1]\n",
      "53/80: total_until5=0\n",
      "53/81:\n",
      "for value in sequence:\n",
      "    if value==5:\n",
      "        break\n",
      "    total_until5 +=value\n",
      "53/82: total_until5\n",
      "53/83:\n",
      "for value in sequence:\n",
      "    if value=5:\n",
      "        break\n",
      "    total_until5 +=value\n",
      "53/84:\n",
      "for i in [0,1,2,3]:\n",
      "    print(i)\n",
      "53/85:\n",
      "for i in range(4):\n",
      "    print(i)\n",
      "53/86:\n",
      "for char in \"texto\":\n",
      "    print(char)\n",
      "53/87: x=256\n",
      "53/88: total =0\n",
      "53/89: while x>0\n",
      "53/90:\n",
      "while x>0:\n",
      "    if total > 500:\n",
      "        break\n",
      "    total +=x\n",
      "    x=x//2\n",
      "53/91: total\n",
      "53/92: x\n",
      "53/93:\n",
      "def my_func(x, y, z=1.5):\n",
      "    if z>1:\n",
      "        return z*(x+y)\n",
      "    else:\n",
      "        return z/(x+y)\n",
      "53/94: my_func(2, 3)\n",
      "53/95: my_func(y=2, x=3)\n",
      "53/96: my_func(z=1, y=2, x=3)\n",
      "53/97: def func()\n",
      "53/98:\n",
      "def func():\n",
      "    a=[]\n",
      "    for in in range(6):\n",
      "53/99:\n",
      "def func():\n",
      "    a=[]\n",
      "    for in range(6):\n",
      "53/100:\n",
      "def func():\n",
      "    a=[]\n",
      "    for i in range(6):\n",
      "        a.append(i)\n",
      "53/101: print?\n",
      "53/102: print??\n",
      "53/103: print???\n",
      "53/104: print??\n",
      "53/105:\n",
      "def func():\n",
      "    a=[]\n",
      "    for i in range(6):\n",
      "        a.append(i)\n",
      "53/106: type(a)\n",
      "53/107: func()\n",
      "53/108: type(a)\n",
      "53/109:\n",
      "def func():\n",
      "    global a=[]\n",
      "    for i in range(6):\n",
      "        a.append(i)\n",
      "53/110:\n",
      "def func():\n",
      "    global a\n",
      "    a=[]\n",
      "    for i in range(6):\n",
      "        a.append(i)\n",
      "53/111: type(a)\n",
      "53/112:\n",
      "def func():\n",
      "    global a\n",
      "    a=[]\n",
      "    for i in range(6):\n",
      "        a.append(i)\n",
      "53/113: func()\n",
      "53/114: type(a)\n",
      "53/115: b=[]\n",
      "53/116:\n",
      "def func2():\n",
      "    for i in range(5):\n",
      "        b.append(i)\n",
      "53/117: func2()\n",
      "53/118:\n",
      "def outer_func():\n",
      "    def inner_func():\n",
      "        pass\n",
      "    pass\n",
      "53/119: outer_func()\n",
      "53/120: import some_module\n",
      "53/121: res=some_module.f(5)\n",
      "53/122: res\n",
      "53/123: pi=some_module.PI\n",
      "53/124: import some_module as sm\n",
      "53/125: pi=sm.PI\n",
      "53/126: from some_module import *\n",
      "53/127: f(4)\n",
      "53/128: def suma(a, b)\n",
      "53/129:\n",
      "def suma(a, b):\n",
      "    sum=a+b\n",
      "    if a==b:\n",
      "        sum=sum*2\n",
      "    return sum\n",
      "53/130:\n",
      "def makes10(a,b):\n",
      "    return (a==10 or b==10 or a+b==10)\n",
      "53/131: makes10(6,4)\n",
      "53/132: a=6\n",
      "53/133: b=4\n",
      "53/134: bool(a==10 or b==10 or a+b==10)\n",
      "53/135: type=\"34\"\n",
      "53/136: type(a)\n",
      "53/137: whos\n",
      "53/138: xdel str\n",
      "53/139: xdel type\n",
      "53/140:\n",
      "def centenario (nombre, year):\n",
      "    if not isinstance(year, int):\n",
      "        year=int(year)\n",
      "    print(\"%s will reach 100 years in %d\" %(nombre, year+100) )\n",
      "53/141: centenario('Antonio', '1900')\n",
      "53/142:\n",
      "def centenario (nombre, year):\n",
      "    if not isinstance(year, int):\n",
      "        year=int(year)\n",
      "    print(\"%s will reach 100 years in %i\" %(nombre, year+100) )\n",
      "53/143: centenario('Antonio', '1900')\n",
      "53/144: print(\"%s will reach 100 years in %f\" %(nombre, year+100) )\n",
      "53/145: nombre='Antonio'\n",
      "53/146: year=1900\n",
      "53/147: print(\"%s will reach 100 years in %f\" %(nombre, year+100) )\n",
      "53/148: print(\"%s will reach 100 years in %4,2f\" %(nombre, year+100) )\n",
      "53/149: print(\"%s will reach 100 years in %4.2f\" %(nombre, year+100) )\n",
      "53/150: print(\"%s will reach 100 years in %4.2f\" %(nombre, year+100) )\n",
      "53/151: print(\"%s will reach 100 years in %.2f\" %(nombre, year+100) )\n",
      "53/152: print(\"%s will reach 100 years in %.2f\" %(nombre, year+100) )\n",
      "53/153: k=1221132423454353454645\n",
      "53/154: k**12321\n",
      "53/155: a=\"one way of writing a string\"\n",
      "53/156: b='another way'\n",
      "53/157:\n",
      "c='''\n",
      "over a \n",
      "few lines\n",
      "'''\n",
      "53/158: c\n",
      "53/159: c[0]\n",
      "53/160: c[0]='f'\n",
      "53/161: a='just another string'\n",
      "53/162: b=a.replace('another', 'changed this')\n",
      "53/163: b\n",
      "53/164: a.find('o')\n",
      "53/165: a.find('s')\n",
      "53/166: a.find('the')\n",
      "53/167: a.find('thedfgdfg')\n",
      "53/168: a.index('the)\n",
      "53/169: a.index('the')\n",
      "53/170: a.find('thedfgdfg')\n",
      "53/171: a.index('thedfgdfg')\n",
      "53/172: a.capitalize\n",
      "53/173: a.capitalize()\n",
      "53/174: a.upper()\n",
      "53/175: a.count('o')\n",
      "53/176: a.count('s')\n",
      "53/177: a.split()\n",
      "53/178: a.split(\" \")\n",
      "53/179: a='just another       string'\n",
      "53/180: a.split()\n",
      "53/181: a.split(\" \")\n",
      "53/182: a.split(\"t\")\n",
      "53/183: c\n",
      "53/184: c.splitlines()\n",
      "53/185: \"^\".join(a)\n",
      "53/186: a\n",
      "53/187: a+a\n",
      "53/188: list(a)\n",
      "53/189: list(a.split())\n",
      "53/190: list(c.splitlines())\n",
      "53/191: a.split()\n",
      "53/192: a='this is string'\n",
      "53/193: a[0]\n",
      "53/194: a[0:3]\n",
      "53/195: a[3:4]\n",
      "53/196: a[3:5]\n",
      "53/197: a[3:]\n",
      "53/198: a[1:10:2]\n",
      "53/199: a[-1]\n",
      "53/200: a[::-1]\n",
      "53/201: a.capitalize?\n",
      "53/202:\n",
      "def string_multiple(string, num):\n",
      "    result=\"\"\n",
      "    for i in range(num):\n",
      "        result=result+string\n",
      "    return result\n",
      "53/203: string_multiple('tesssss',4)\n",
      "53/204:\n",
      "def string_bits(string):\n",
      "    result=\"\"\n",
      "    for i in range(len(string)):\n",
      "        if i%2 == 0:\n",
      "            result=result+str[i]\n",
      "    return result\n",
      "53/205: string_bits(\"this is text\")\n",
      "53/206:\n",
      "def string_bits(string):\n",
      "    result=\"\"\n",
      "    for i in range(len(string)):\n",
      "        if i % 2 == 0:\n",
      "            result=result+str[i]\n",
      "    return result\n",
      "53/207: string_bits(\"this is text\")\n",
      "53/208:\n",
      "def string_bits(string):\n",
      "    result=\"\"\n",
      "    for i in range(len(string)):\n",
      "        if i % 2 == 0:\n",
      "            result=result+string[i]\n",
      "    return result\n",
      "53/209: string_bits(\"this is text\")\n",
      "53/210:\n",
      "def wc(string):\n",
      "    chars=0\n",
      "    for char in string:\n",
      "        chars+=1\n",
      "    words=len(string.split())\n",
      "    lines=len(string.splitlines())\n",
      "    return(lines, words, chars)\n",
      "53/211: c\n",
      "53/212: wc(c)\n",
      "53/213:\n",
      "def wc(string):\n",
      "    chars=0\n",
      "    for char in string:\n",
      "        chars+=1\n",
      "    words=len(string.split())\n",
      "    lines=len(string.split(\"\\n\"))\n",
      "    return(lines, words, chars)\n",
      "53/214: wc(c)\n",
      "53/215: bool ('a')\n",
      "53/216: bool ('')\n",
      "53/217:\n",
      "def romove_char(string, n):\n",
      "    if not string:\n",
      "        print(\"Empty\")\n",
      "        return\n",
      "    else:\n",
      "53/218: a\n",
      "53/219: a[:3]\n",
      "53/220: a[4:]\n",
      "53/221:\n",
      "def romove_char(string, n):\n",
      "    if not string:\n",
      "        print(\"Empty\")\n",
      "        return\n",
      "    else:\n",
      "        first_part=string[:n]\n",
      "        last_part=string[n+1:]\n",
      "        return first_part + last_part\n",
      "53/222: romove_char('012345678',5)\n",
      "53/223:\n",
      "def combo_str(a, b):\n",
      "    if len(a)>len(b):\n",
      "        return b+a+b\n",
      "    elif len(a)==len(b):\n",
      "        return \"They are the same\"\n",
      "    else:\n",
      "        return a+b+a\n",
      "53/224: ! pwd\n",
      "53/225: cd ..\n",
      "53/226: ! cd ..\n",
      "53/227: cd\n",
      "53/228: ! grep -i \"hello\" hello_world.py\n",
      "53/229: ! psql -d optd\n",
      "53/230: ! psql\n",
      "53/231: !python hello_world.py\n",
      "53/232: %lsmagic\n",
      "53/233:\n",
      "%%!\n",
      "pwd\n",
      "cd ..\n",
      "pwd\n",
      "53/234: %automagic\n",
      "53/235: cd\n",
      "53/236: %cd\n",
      "53/237: %automagic\n",
      "53/238: %dhist\n",
      "53/239: %precision\n",
      "53/240: 10/3.\n",
      "53/241: %precision 3\n",
      "53/242: 10/3.\n",
      "53/243: %history\n",
      "53/244: %history 1-10\n",
      "53/245: %history 230-240\n",
      "53/246: %history -n 230-240\n",
      "53/247: %history -n -o 1-10\n",
      "53/248: %history -n -o 1-10 -f filetosave.txt\n",
      "53/249: !cat ./filetosave.txt\n",
      "53/250: pwd\n",
      "53/251: lsmagic\n",
      "53/252: %cat ./filetosave.txt\n",
      "53/253: %cat ./filetosave.txt | less\n",
      "53/254: %history -n -o ~2/1-10\n",
      "53/255: %history -n -o 50/1-10\n",
      "53/256: %history -n 230-240\n",
      "53/257: %history -n 200-240\n",
      "53/258: edit 221\n",
      "53/259: %config\n",
      "53/260: %config TerminalInteractiveShell\n",
      "53/261: %config TerminalInteractiveShell.editor\n",
      "53/262: %config TerminalInteractiveShell.editor='kwrite'\n",
      "53/263: edit 221\n",
      "53/264: edit remove_char\n",
      "53/265: edit -x remove_char\n",
      "53/266:\n",
      "def myfunction():\n",
      "    pass\n",
      "53/267: edit myfunction\n",
      "53/268: x=1\n",
      "53/269: y=2\n",
      "53/270: z=0\n",
      "53/271: macro init_values 268-270\n",
      "53/272: whos\n",
      "53/273: reset\n",
      "53/274: whos\n",
      "53/275: rerun268-270\n",
      "53/276: rerun 268-270\n",
      "53/277: %who\n",
      "53/278: %whos\n",
      "53/279:\n",
      "def func():\n",
      "    pass\n",
      "53/280: %whos\n",
      "53/281: type=\"ertert\"\n",
      "53/282: %whos\n",
      "53/283: %who_ls\n",
      "53/284: %xdel type\n",
      "53/285: %del x\n",
      "53/286: del x\n",
      "53/287: %whos\n",
      "53/288: k=5; a=k\n",
      "53/289: who\n",
      "53/290: xdel a\n",
      "53/291: who\n",
      "53/292: k=5; a=k\n",
      "53/293: who\n",
      "53/294: del a\n",
      "53/295: who\n",
      "53/296: %reset\n"
     ]
    }
   ],
   "source": [
    "%history -n  ~1/"
   ]
  },
  {
   "cell_type": "code",
   "execution_count": 21,
   "metadata": {},
   "outputs": [
    {
     "data": {
      "text/plain": [
       "['/home/dsc']"
      ]
     },
     "execution_count": 21,
     "metadata": {},
     "output_type": "execute_result"
    }
   ],
   "source": [
    "%%!\n",
    "pwd\n",
    "cd"
   ]
  },
  {
   "cell_type": "code",
   "execution_count": 22,
   "metadata": {},
   "outputs": [
    {
     "name": "stdout",
     "output_type": "stream",
     "text": [
      "hello_world.py\tsome_module.py\r\n"
     ]
    }
   ],
   "source": [
    "! ls *py"
   ]
  },
  {
   "cell_type": "code",
   "execution_count": 23,
   "metadata": {
    "collapsed": true
   },
   "outputs": [],
   "source": [
    "a=! ls *py"
   ]
  },
  {
   "cell_type": "code",
   "execution_count": 24,
   "metadata": {},
   "outputs": [
    {
     "data": {
      "text/plain": [
       "['hello_world.py', 'some_module.py']"
      ]
     },
     "execution_count": 24,
     "metadata": {},
     "output_type": "execute_result"
    }
   ],
   "source": [
    "a"
   ]
  },
  {
   "cell_type": "code",
   "execution_count": 29,
   "metadata": {
    "collapsed": true
   },
   "outputs": [],
   "source": [
    "b=!cat ./hello_world.py"
   ]
  },
  {
   "cell_type": "code",
   "execution_count": 30,
   "metadata": {},
   "outputs": [
    {
     "data": {
      "text/plain": [
       "[\"print('hello from python')\"]"
      ]
     },
     "execution_count": 30,
     "metadata": {},
     "output_type": "execute_result"
    }
   ],
   "source": [
    "b"
   ]
  },
  {
   "cell_type": "code",
   "execution_count": 31,
   "metadata": {},
   "outputs": [
    {
     "data": {
      "text/plain": [
       "IPython.utils.text.SList"
      ]
     },
     "execution_count": 31,
     "metadata": {},
     "output_type": "execute_result"
    }
   ],
   "source": [
    "type(a)"
   ]
  },
  {
   "cell_type": "code",
   "execution_count": 32,
   "metadata": {},
   "outputs": [
    {
     "data": {
      "text/plain": [
       "['hello_world.py', 'some_module.py']"
      ]
     },
     "execution_count": 32,
     "metadata": {},
     "output_type": "execute_result"
    }
   ],
   "source": [
    "a.l"
   ]
  },
  {
   "cell_type": "code",
   "execution_count": 36,
   "metadata": {},
   "outputs": [
    {
     "data": {
      "text/plain": [
       "\"print('hello from python')\""
      ]
     },
     "execution_count": 36,
     "metadata": {},
     "output_type": "execute_result"
    }
   ],
   "source": [
    "b.n"
   ]
  },
  {
   "cell_type": "code",
   "execution_count": 37,
   "metadata": {},
   "outputs": [
    {
     "data": {
      "text/plain": [
       "\"print('hello from python')\""
      ]
     },
     "execution_count": 37,
     "metadata": {},
     "output_type": "execute_result"
    }
   ],
   "source": [
    "b.s"
   ]
  },
  {
   "cell_type": "code",
   "execution_count": 38,
   "metadata": {},
   "outputs": [
    {
     "data": {
      "text/plain": [
       "['hello_world.py', 'some_module.py']"
      ]
     },
     "execution_count": 38,
     "metadata": {},
     "output_type": "execute_result"
    }
   ],
   "source": [
    "a"
   ]
  },
  {
   "cell_type": "code",
   "execution_count": 39,
   "metadata": {},
   "outputs": [
    {
     "data": {
      "text/plain": [
       "'hello_world.py'"
      ]
     },
     "execution_count": 39,
     "metadata": {},
     "output_type": "execute_result"
    }
   ],
   "source": [
    "a[0]"
   ]
  },
  {
   "cell_type": "code",
   "execution_count": 40,
   "metadata": {},
   "outputs": [
    {
     "data": {
      "text/plain": [
       "'hello_world.py some_module.py'"
      ]
     },
     "execution_count": 40,
     "metadata": {},
     "output_type": "execute_result"
    }
   ],
   "source": [
    "a.s"
   ]
  },
  {
   "cell_type": "code",
   "execution_count": 41,
   "metadata": {
    "collapsed": true
   },
   "outputs": [],
   "source": [
    "c=['sdsds', 'dfdddf']"
   ]
  },
  {
   "cell_type": "code",
   "execution_count": 42,
   "metadata": {},
   "outputs": [
    {
     "ename": "AttributeError",
     "evalue": "'list' object has no attribute 's'",
     "output_type": "error",
     "traceback": [
      "\u001b[0;31m---------------------------------------------------------------------------\u001b[0m",
      "\u001b[0;31mAttributeError\u001b[0m                            Traceback (most recent call last)",
      "\u001b[0;32m<ipython-input-42-31b225b4f6b8>\u001b[0m in \u001b[0;36m<module>\u001b[0;34m()\u001b[0m\n\u001b[0;32m----> 1\u001b[0;31m \u001b[0mc\u001b[0m\u001b[0;34m.\u001b[0m\u001b[0ms\u001b[0m\u001b[0;34m\u001b[0m\u001b[0m\n\u001b[0m",
      "\u001b[0;31mAttributeError\u001b[0m: 'list' object has no attribute 's'"
     ]
    }
   ],
   "source": [
    "c.s"
   ]
  },
  {
   "cell_type": "code",
   "execution_count": 43,
   "metadata": {
    "collapsed": true
   },
   "outputs": [],
   "source": [
    "parametros=a.s"
   ]
  },
  {
   "cell_type": "code",
   "execution_count": 44,
   "metadata": {},
   "outputs": [
    {
     "data": {
      "text/plain": [
       "'hello_world.py some_module.py'"
      ]
     },
     "execution_count": 44,
     "metadata": {},
     "output_type": "execute_result"
    }
   ],
   "source": [
    "parametros"
   ]
  },
  {
   "cell_type": "code",
   "execution_count": 45,
   "metadata": {},
   "outputs": [
    {
     "name": "stdout",
     "output_type": "stream",
     "text": [
      " 1 hello_world.py\r\n",
      " 7 some_module.py\r\n",
      " 8 total\r\n"
     ]
    }
   ],
   "source": [
    "! wc -l $parametros"
   ]
  },
  {
   "cell_type": "code",
   "execution_count": null,
   "metadata": {
    "collapsed": true
   },
   "outputs": [],
   "source": []
  }
 ],
 "metadata": {
  "kernelspec": {
   "display_name": "Python 3",
   "language": "python",
   "name": "python3"
  },
  "language_info": {
   "codemirror_mode": {
    "name": "ipython",
    "version": 3
   },
   "file_extension": ".py",
   "mimetype": "text/x-python",
   "name": "python",
   "nbconvert_exporter": "python",
   "pygments_lexer": "ipython3",
   "version": "3.6.2"
  }
 },
 "nbformat": 4,
 "nbformat_minor": 2
}
