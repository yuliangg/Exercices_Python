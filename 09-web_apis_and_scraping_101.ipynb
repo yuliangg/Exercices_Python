{
 "cells": [
  {
   "cell_type": "markdown",
   "metadata": {},
   "source": [
    "#  Web APIs\n",
    "\n",
    "An API, or aplication programming interface, is the way programs communicate with one another. \n",
    "\n",
    "Web APIs are the way programs communicate with one another _over the internet_\n",
    "\n",
    "[RESTful](https://en.wikipedia.org/wiki/Representational_state_transfer) APIs respect a series of design principles that make them simple to use.\n",
    "\n",
    "The basic tools we are going to use are: POST and GET requests to urls we'll specify and json objects that we'll receive as response or send as payload (in a POST command, for example)."
   ]
  },
  {
   "cell_type": "code",
   "execution_count": 1,
   "metadata": {},
   "outputs": [
    {
     "data": {
      "text/plain": [
       "'<!DOCTYPE html>\\n<html lang=\"es\">\\n<head>\\n<meta charset=\"utf-8\">\\n<meta http-equiv=\"X-UA-Compatible\" content=\"IE=edge\">\\n<meta name=\"format-detection\" content=\"address=no,email=no,telephone=no\">\\n<meta name=\"viewport\" content=\"width=device-width, initial-scale=1.0, maximum-scale=1.0\" />\\n<title>EL PA\\xc3\\x8dS: el peri\\xc3\\xb3dico global</title>\\n<meta name=\"lang\" \\t\\t\\tcontent=\"es\" />\\n<meta name=\"author\" \\t\\tcontent=\"Ediciones El Pa\\xc3\\xads\" />\\n<meta name=\"description\" \\tcontent=\"Noticias de \\xc3\\xbaltima hora sobre la actualidad '"
      ]
     },
     "execution_count": 1,
     "metadata": {},
     "output_type": "execute_result"
    }
   ],
   "source": [
    "import requests\n",
    "\n",
    "resp = requests.get('http://www.elpais.com/')\n",
    "resp.content[:500]"
   ]
  },
  {
   "cell_type": "markdown",
   "metadata": {},
   "source": [
    "This is an API that returns the current position of the ISS:"
   ]
  },
  {
   "cell_type": "code",
   "execution_count": 2,
   "metadata": {},
   "outputs": [
    {
     "data": {
      "text/plain": [
       "200"
      ]
     },
     "execution_count": 2,
     "metadata": {},
     "output_type": "execute_result"
    }
   ],
   "source": [
    "r = requests.get('http://api.open-notify.org/iss-now.json')\n",
    "r.status_code"
   ]
  },
  {
   "cell_type": "code",
   "execution_count": 3,
   "metadata": {},
   "outputs": [
    {
     "data": {
      "text/plain": [
       "'{\"message\": \"success\", \"iss_position\": {\"latitude\": \"39.3633\", \"longitude\": \"-125.7067\"}, \"timestamp\": 1493988848}'"
      ]
     },
     "execution_count": 3,
     "metadata": {},
     "output_type": "execute_result"
    }
   ],
   "source": [
    "r.content"
   ]
  },
  {
   "cell_type": "markdown",
   "metadata": {},
   "source": [
    "We can convert a json-formatted string such as the one we get in the response into a Python object with the json library:"
   ]
  },
  {
   "cell_type": "code",
   "execution_count": 4,
   "metadata": {},
   "outputs": [
    {
     "data": {
      "text/plain": [
       "{u'iss_position': {u'latitude': u'39.3633', u'longitude': u'-125.7067'},\n",
       " u'message': u'success',\n",
       " u'timestamp': 1493988848}"
      ]
     },
     "execution_count": 4,
     "metadata": {},
     "output_type": "execute_result"
    }
   ],
   "source": [
    "import json \n",
    "\n",
    "pos = json.loads(r.content)\n",
    "pos"
   ]
  },
  {
   "cell_type": "code",
   "execution_count": 5,
   "metadata": {},
   "outputs": [
    {
     "data": {
      "text/plain": [
       "u'39.3633'"
      ]
     },
     "execution_count": 5,
     "metadata": {},
     "output_type": "execute_result"
    }
   ],
   "source": [
    "pos['iss_position']['latitude']\n"
   ]
  },
  {
   "cell_type": "code",
   "execution_count": 6,
   "metadata": {},
   "outputs": [
    {
     "data": {
      "text/html": [
       "<div>\n",
       "<table border=\"1\" class=\"dataframe\">\n",
       "  <thead>\n",
       "    <tr style=\"text-align: right;\">\n",
       "      <th></th>\n",
       "      <th>iss_position</th>\n",
       "      <th>message</th>\n",
       "      <th>timestamp</th>\n",
       "    </tr>\n",
       "  </thead>\n",
       "  <tbody>\n",
       "    <tr>\n",
       "      <th>latitude</th>\n",
       "      <td>39.3826</td>\n",
       "      <td>success</td>\n",
       "      <td>2017-05-05 12:54:08</td>\n",
       "    </tr>\n",
       "    <tr>\n",
       "      <th>longitude</th>\n",
       "      <td>-125.6751</td>\n",
       "      <td>success</td>\n",
       "      <td>2017-05-05 12:54:08</td>\n",
       "    </tr>\n",
       "  </tbody>\n",
       "</table>\n",
       "</div>"
      ],
      "text/plain": [
       "           iss_position  message           timestamp\n",
       "latitude        39.3826  success 2017-05-05 12:54:08\n",
       "longitude     -125.6751  success 2017-05-05 12:54:08"
      ]
     },
     "execution_count": 6,
     "metadata": {},
     "output_type": "execute_result"
    }
   ],
   "source": [
    "import pandas as pd\n",
    "\n",
    "pd.read_json('http://api.open-notify.org/iss-now.json')"
   ]
  },
  {
   "cell_type": "markdown",
   "metadata": {},
   "source": [
    "We also can go in the other direction and generate json-formatted strings from Python objects:"
   ]
  },
  {
   "cell_type": "code",
   "execution_count": 7,
   "metadata": {
    "collapsed": true
   },
   "outputs": [],
   "source": [
    "mi_diccionario = {'Chicago' : \"Illinois\", \"Kansas City\" : [\"Kansas\", \"Missouri\"]}"
   ]
  },
  {
   "cell_type": "code",
   "execution_count": 8,
   "metadata": {},
   "outputs": [
    {
     "data": {
      "text/plain": [
       "{'Chicago': 'Illinois', 'Kansas City': ['Kansas', 'Missouri']}"
      ]
     },
     "execution_count": 8,
     "metadata": {},
     "output_type": "execute_result"
    }
   ],
   "source": [
    "mi_diccionario"
   ]
  },
  {
   "cell_type": "code",
   "execution_count": 9,
   "metadata": {},
   "outputs": [
    {
     "data": {
      "text/plain": [
       "'{\"Kansas City\": [\"Kansas\", \"Missouri\"], \"Chicago\": \"Illinois\"}'"
      ]
     },
     "execution_count": 9,
     "metadata": {},
     "output_type": "execute_result"
    }
   ],
   "source": [
    "json.dumps(mi_diccionario)"
   ]
  },
  {
   "cell_type": "markdown",
   "metadata": {},
   "source": [
    "#### Exercise:\n",
    "Write a function that returns the duration of the next 5 overhead passes of the ISS for a given latitude and longitude. Use http://open-notify.org/Open-Notify-API/ISS-Pass-Times/\n",
    ". We are going to need to encode the parameters in the url as per the specification.\n",
    "\n",
    "For example, for Madrid:\n",
    "\n",
    "http://api.open-notify.org/iss-pass.json?lat=40.4&lon=-3.7"
   ]
  },
  {
   "cell_type": "code",
   "execution_count": 10,
   "metadata": {},
   "outputs": [
    {
     "data": {
      "text/plain": [
       "[{u'duration': 543, u'risetime': 1494038422},\n",
       " {u'duration': 640, u'risetime': 1494044141},\n",
       " {u'duration': 569, u'risetime': 1494049996},\n",
       " {u'duration': 530, u'risetime': 1494055870},\n",
       " {u'duration': 601, u'risetime': 1494061679}]"
      ]
     },
     "execution_count": 10,
     "metadata": {},
     "output_type": "execute_result"
    }
   ],
   "source": [
    "def get_iss(lat, lon):\n",
    "    \n",
    "    url = \"http://api.open-notify.org/iss-pass.json?lat=%f&lon=%f\" % (lat, lon)\n",
    "    response = requests.get(url)\n",
    "    my_dict = json.loads(response.content)\n",
    "    result = my_dict['response']\n",
    "    \n",
    "    return result\n",
    "\n",
    "get_iss(40.0, 3.5)"
   ]
  },
  {
   "cell_type": "markdown",
   "metadata": {},
   "source": [
    "Although we managed to get the response, more complicated sets of parameters will be a complicated and error-prone thing to encode. Thankfully, the `requests` library can do that work for us."
   ]
  },
  {
   "cell_type": "code",
   "execution_count": 11,
   "metadata": {},
   "outputs": [
    {
     "data": {
      "text/plain": [
       "{u'message': u'success',\n",
       " u'request': {u'altitude': 100,\n",
       "  u'datetime': 1493986734,\n",
       "  u'latitude': 40.4,\n",
       "  u'longitude': -3.7,\n",
       "  u'passes': 5},\n",
       " u'response': [{u'duration': 371, u'risetime': 1493989991},\n",
       "  {u'duration': 417, u'risetime': 1494038436},\n",
       "  {u'duration': 637, u'risetime': 1494044076},\n",
       "  {u'duration': 601, u'risetime': 1494049897},\n",
       "  {u'duration': 537, u'risetime': 1494055774}]}"
      ]
     },
     "execution_count": 11,
     "metadata": {},
     "output_type": "execute_result"
    }
   ],
   "source": [
    "madrid_coords = {'lat': 40.4, 'lon': -3.7}\n",
    "\n",
    "r = requests.get('http://api.open-notify.org/iss-pass.json', params=madrid_coords)\n",
    "json.loads(r.content)"
   ]
  },
  {
   "cell_type": "code",
   "execution_count": 12,
   "metadata": {},
   "outputs": [
    {
     "data": {
      "text/html": [
       "<div>\n",
       "<table border=\"1\" class=\"dataframe\">\n",
       "  <thead>\n",
       "    <tr style=\"text-align: right;\">\n",
       "      <th></th>\n",
       "      <th>duration</th>\n",
       "      <th>risetime</th>\n",
       "    </tr>\n",
       "  </thead>\n",
       "  <tbody>\n",
       "    <tr>\n",
       "      <th>0</th>\n",
       "      <td>371</td>\n",
       "      <td>1493989991</td>\n",
       "    </tr>\n",
       "    <tr>\n",
       "      <th>1</th>\n",
       "      <td>417</td>\n",
       "      <td>1494038436</td>\n",
       "    </tr>\n",
       "    <tr>\n",
       "      <th>2</th>\n",
       "      <td>637</td>\n",
       "      <td>1494044076</td>\n",
       "    </tr>\n",
       "    <tr>\n",
       "      <th>3</th>\n",
       "      <td>601</td>\n",
       "      <td>1494049897</td>\n",
       "    </tr>\n",
       "    <tr>\n",
       "      <th>4</th>\n",
       "      <td>537</td>\n",
       "      <td>1494055774</td>\n",
       "    </tr>\n",
       "  </tbody>\n",
       "</table>\n",
       "</div>"
      ],
      "text/plain": [
       "   duration    risetime\n",
       "0       371  1493989991\n",
       "1       417  1494038436\n",
       "2       637  1494044076\n",
       "3       601  1494049897\n",
       "4       537  1494055774"
      ]
     },
     "execution_count": 12,
     "metadata": {},
     "output_type": "execute_result"
    }
   ],
   "source": [
    "resp = json.loads(r.content)['response']\n",
    "\n",
    "pd.DataFrame(resp)"
   ]
  },
  {
   "cell_type": "markdown",
   "metadata": {},
   "source": [
    "Even more complicated sets of parameters are sometimes required. When that is the case, API designers often decide to require them in json format, received via a `POST` request.\n",
    "\n",
    "For example, take a look at the [QPX api from Google](https://developers.google.com/qpx-express/v1/trips/search). In the documentation, they define the body of the request, which we will have to provide, and of the response, which they'll provide back."
   ]
  },
  {
   "cell_type": "code",
   "execution_count": 13,
   "metadata": {},
   "outputs": [
    {
     "name": "stdout",
     "output_type": "stream",
     "text": [
      "Help on function post in module requests.api:\n",
      "\n",
      "post(url, data=None, json=None, **kwargs)\n",
      "    Sends a POST request.\n",
      "    \n",
      "    :param url: URL for the new :class:`Request` object.\n",
      "    :param data: (optional) Dictionary, bytes, or file-like object to send in the body of the :class:`Request`.\n",
      "    :param json: (optional) json data to send in the body of the :class:`Request`.\n",
      "    :param \\*\\*kwargs: Optional arguments that ``request`` takes.\n",
      "    :return: :class:`Response <Response>` object\n",
      "    :rtype: requests.Response\n",
      "\n"
     ]
    }
   ],
   "source": [
    "help(requests.post)"
   ]
  },
  {
   "cell_type": "markdown",
   "metadata": {},
   "source": [
    "# Web scraping\n",
    "\n",
    "![HTML to DOM](http://www.cs.toronto.edu/~shiva/cscb07/img/dom/treeStructure.png)\n",
    "\n",
    "![DOM TREE](http://www.openbookproject.net/tutorials/getdown/css/images/lesson4/HTMLDOMTree.png)\n",
    "\n"
   ]
  },
  {
   "cell_type": "code",
   "execution_count": 14,
   "metadata": {},
   "outputs": [
    {
     "data": {
      "text/html": [
       "\n",
       "        <iframe\n",
       "            width=\"800\"\n",
       "            height=\"600\"\n",
       "            src=\"http://www.aflcio.org/Legislation-and-Politics/Legislative-Alerts\"\n",
       "            frameborder=\"0\"\n",
       "            allowfullscreen\n",
       "        ></iframe>\n",
       "        "
      ],
      "text/plain": [
       "<IPython.lib.display.IFrame at 0x7f62a8107e90>"
      ]
     },
     "execution_count": 14,
     "metadata": {},
     "output_type": "execute_result"
    }
   ],
   "source": [
    "from IPython.display import IFrame\n",
    "\n",
    "IFrame('http://www.aflcio.org/Legislation-and-Politics/Legislative-Alerts', 800, 600)"
   ]
  },
  {
   "cell_type": "code",
   "execution_count": 15,
   "metadata": {},
   "outputs": [
    {
     "data": {
      "text/plain": [
       "'<!DOCTYPE html>\\n<html lang=\"en\" dir=\"ltr\" xmlns:article=\"http://ogp.me/ns/article#\" xmlns:book=\"http://ogp.me/ns/book#\" xmlns:product=\"http://ogp.me/ns/product#\" xmlns:profile=\"http://ogp.me/ns/profile#\" xmlns:video=\"http://ogp.me/ns/video#\" prefix=\"content: http://purl.org/rss/1.0/modules/content/  dc: http://purl.org/dc/terms/  foaf: http://xmlns.com/foaf/0.1/  og: http://ogp.me/ns#  rdfs: http://www.w3.org/2000/01/rdf-schema#  schema: http://schema.org/  sioc: http://rdfs.org/sioc/ns#  sioct: http://rdfs.org/sioc/types#  skos: http://www.w3.org/2004/02/skos/core#  xsd: http://www.w3.org/2001/XMLSchema# \">\\n  <head>\\n    <meta charset=\"utf-8\" /><script type=\"text/javascript\">window.NREUM||(NREUM={}),__nr_require=function(e,n,t){function r(t){if(!n[t]){var o=n[t]={exports:{}};e[t][0].call(o.exports,function(n){var o=e[t][1][n];return r(o||n)},o,o.exports)}return n[t].exports}if(\"function\"==typeof __nr_require)return __nr_require;for(var o=0;o<t.length;o++)r(t[o]);return r}({1:[function('"
      ]
     },
     "execution_count": 15,
     "metadata": {},
     "output_type": "execute_result"
    }
   ],
   "source": [
    "from bs4 import BeautifulSoup\n",
    "\n",
    "r = requests.get('http://www.aflcio.org/Legislation-and-Politics/Legislative-Alerts')\n",
    "\n",
    "page = r.content\n",
    "page[:1000]"
   ]
  },
  {
   "cell_type": "code",
   "execution_count": 16,
   "metadata": {},
   "outputs": [
    {
     "name": "stdout",
     "output_type": "stream",
     "text": [
      "<!DOCTYPE html>\n",
      "<html dir=\"ltr\" lang=\"en\" prefix=\"content: http://purl.org/rss/1.0/modules/content/  dc: http://purl.org/dc/terms/  foaf: http://xmlns.com/foaf/0.1/  og: http://ogp.me/ns#  rdfs: http://www.w3.org/2000/01/rdf-schema#  schema: http://schema.org/  sioc: http://rdfs.org/sioc/ns#  sioct: http://rdfs.org/sioc/types#  skos: http://www.w3.org/2004/02/skos/core#  xsd: http://www.w3.org/2001/XMLSchema# \" xmlns:article=\"http://ogp.me/ns/article#\" xmlns:book=\"http://ogp.me/ns/book#\" xmlns:product=\"http://ogp.me/ns/product#\" xmlns:profile=\"http://ogp.me/ns/profile#\" xmlns:video=\"http://ogp.me/ns/video#\">\n",
      " <head>\n",
      "  <meta charset=\"utf-8\"/>\n",
      "  <script type=\"text/javascript\">\n",
      "   window.NREUM||(NREUM={}),__nr_require=function(e,n,t){function r(t){if(!n[t]){var o=n[t]={exports:{}};e[t][0].call(o.exports,function(n){var o=e[t][1][n];return r(o||n)},o,o.exports)}return n[t].exports}if(\"function\"==typeof __nr_require)return __nr_require;for(var o=0;o<t.length;o++)r(t[o]);return r}({1:[functi\n"
     ]
    }
   ],
   "source": [
    "soup = BeautifulSoup(page, 'html5lib')\n",
    "print soup.prettify()[:1000]"
   ]
  },
  {
   "cell_type": "code",
   "execution_count": 17,
   "metadata": {},
   "outputs": [
    {
     "name": "stdout",
     "output_type": "stream",
     "text": [
      "  Letter to Congress Opposing A Bill to Post Private Information of Asbestos Victims Online and Make It Harder for Victims to Receive Compensation\n",
      "                  </span>\n",
      "                 </h2>\n",
      "                 <time datetime=\"2017-03-06T11:48:00-0500\">\n",
      "                  March 6, 2017\n",
      "                 </time>\n",
      "                </div>\n",
      "               </a>\n",
      "               <div>\n",
      "               </div>\n",
      "              </div>\n",
      "             </div>\n",
      "             <div class=\"block block-content col-12 col-lg-4\">\n",
      "              <div class=\"content-details \">\n",
      "               <a class=\"b-inner\" href=\"/about/advocacy/legislative-alerts/letter-congress-opposing-legislation-strip-rights-working-people\">\n",
      "                <div class=\"b-text\">\n",
      "                 <h5 class=\"content-type\">\n",
      "                  Legislative Alert\n",
      "                 </h5>\n",
      "                 <h2 class=\"content-title\">\n",
      "                  <span>\n",
      "                   Letter to Congress Opposing Legislation to Strip Rights from Working People Who Work on Native American Land\n",
      "                  </span>\n",
      "                 </h2>\n",
      "                 <time datetime=\"2017-03-02T12:41:00-0500\">\n",
      "                  March 2, 2017\n",
      "                 </time>\n",
      "                </div>\n",
      "               </a>\n",
      "               <div>\n",
      "               </div>\n",
      "              </div>\n",
      "             </div>\n",
      "             <div class=\"block block-content col-12 col-lg-4\">\n",
      "              <div class=\"content-details \">\n",
      "               <a class=\"b-inner\" href=\"/about/advocacy/legislative-alerts/letter-congress-opposing-repeal-osha-rule-clarifies\">\n",
      "                <div class=\"b-text\">\n",
      "                 <h5 class=\"content-type\">\n",
      "                  Legislative Alert\n",
      "                 </h5>\n",
      "                 <h2 class=\"content-title\">\n",
      "                  <span>\n",
      "                   Letter to Congres\n"
     ]
    }
   ],
   "source": [
    "print soup.prettify()[28700:30500]"
   ]
  },
  {
   "cell_type": "code",
   "execution_count": 18,
   "metadata": {},
   "outputs": [
    {
     "name": "stdout",
     "output_type": "stream",
     "text": [
      "Help on method find_all in module bs4.element:\n",
      "\n",
      "find_all(self, name=None, attrs={}, recursive=True, text=None, limit=None, **kwargs) method of bs4.BeautifulSoup instance\n",
      "    Extracts a list of Tag objects that match the given\n",
      "    criteria.  You can specify the name of the Tag and any\n",
      "    attributes you want the Tag to have.\n",
      "    \n",
      "    The value of a key-value pair in the 'attrs' map can be a\n",
      "    string, a list of strings, a regular expression object, or a\n",
      "    callable that takes a string and returns whether or not the\n",
      "    string matches for some custom definition of 'matches'. The\n",
      "    same is true of the tag name.\n",
      "\n"
     ]
    }
   ],
   "source": [
    "help(soup.find_all)"
   ]
  },
  {
   "cell_type": "code",
   "execution_count": 19,
   "metadata": {},
   "outputs": [
    {
     "name": "stdout",
     "output_type": "stream",
     "text": [
      "18\n"
     ]
    },
    {
     "data": {
      "text/plain": [
       "bs4.element.ResultSet"
      ]
     },
     "execution_count": 19,
     "metadata": {},
     "output_type": "execute_result"
    }
   ],
   "source": [
    "alerts = soup.find_all('div', class_='content-details')\n",
    "print len(alerts)\n",
    "type(alerts)"
   ]
  },
  {
   "cell_type": "code",
   "execution_count": 20,
   "metadata": {},
   "outputs": [
    {
     "data": {
      "text/plain": [
       "<div class=\"content-details \">\\n\\t<a class=\"b-inner\" href=\"/about/advocacy/legislative-alerts/letter-congress-opposing-bill-would-subject-workers-longer-hours\">\\n\\t  <div class=\"b-text\">\\n      <h5 class=\"content-type\">Legislative Alert</h5>\\n      <h2 class=\"content-title\"><span>Letter to Congress Opposing a Bill That Would Subject Workers to Longer Hours and More Unpredictable Schedules</span>\\n</h2>\\n            <time datetime=\"2017-04-25T14:50:35-0400\">April 25, 2017</time>\\n    </div>\\n\\t</a>\\n  <div></div>\\n</div>"
      ]
     },
     "execution_count": 20,
     "metadata": {},
     "output_type": "execute_result"
    }
   ],
   "source": [
    "alerts[0]"
   ]
  },
  {
   "cell_type": "code",
   "execution_count": 21,
   "metadata": {},
   "outputs": [
    {
     "name": "stdout",
     "output_type": "stream",
     "text": [
      "April 25, 2017\n",
      "Letter to Congress Opposing a Bill That Would Subject Workers to Longer Hours and More Unpredictable Schedules\n",
      "/about/advocacy/legislative-alerts/letter-congress-opposing-bill-would-subject-workers-longer-hours\n"
     ]
    }
   ],
   "source": [
    "first = alerts[0]\n",
    "print first.find('time').get_text()\n",
    "print first.a.find('span').get_text()\n",
    "print first.a['href']"
   ]
  },
  {
   "cell_type": "code",
   "execution_count": 22,
   "metadata": {
    "collapsed": true
   },
   "outputs": [],
   "source": [
    "def get_aflcio_alerts():\n",
    "    result = []\n",
    "    r = requests.get('http://www.aflcio.org/Legislation-and-Politics/Legislative-Alerts')\n",
    "    soup = BeautifulSoup(r.content, 'html5lib')\n",
    "    \n",
    "    for alert in soup.find_all('div', class_='content-details'):\n",
    "        dictionary = {}\n",
    "        dictionary['date'] = alert.find('time').get_text()\n",
    "        dictionary['title'] = alert.a.find('span').get_text()\n",
    "        dictionary['link'] = 'http://www.aflcio.org' + alert.a['href']\n",
    "        \n",
    "        result.append(dictionary)\n",
    "        \n",
    "    return result"
   ]
  },
  {
   "cell_type": "code",
   "execution_count": 23,
   "metadata": {},
   "outputs": [
    {
     "data": {
      "text/plain": [
       "[{'date': u'April 25, 2017',\n",
       "  'link': u'http://www.aflcio.org/about/advocacy/legislative-alerts/letter-congress-opposing-bill-would-subject-workers-longer-hours',\n",
       "  'title': u'Letter to Congress Opposing a Bill That Would Subject Workers to Longer Hours and More Unpredictable Schedules'},\n",
       " {'date': u'March 23, 2017',\n",
       "  'link': u'http://www.aflcio.org/about/advocacy/legislative-alerts/letter-senators-opposing-supreme-court-nomination-neil-gorsuch',\n",
       "  'title': u'Letter to Senators Opposing the Supreme Court Nomination of Neil Gorsuch'}]"
      ]
     },
     "execution_count": 23,
     "metadata": {},
     "output_type": "execute_result"
    }
   ],
   "source": [
    "letters = get_aflcio_alerts()\n",
    "letters[:2]"
   ]
  },
  {
   "cell_type": "code",
   "execution_count": 24,
   "metadata": {},
   "outputs": [
    {
     "data": {
      "text/plain": [
       "'[{\"date\": \"April 25, 2017\", \"link\": \"http://www.aflcio.org/about/advocacy/legislative-alerts/letter-congress-opposing-bill-would-subject-workers-longer-hours\", \"title\": \"Letter to Congress Opposing a Bill That Would Subject Workers to Longer Hours and More Unpredictable Schedules\"}, {\"date\": \"March 23, 2017\", \"link\": \"http://www.aflcio.org/about/advocacy/legislative-alerts/letter-senators-opposing-supreme-court-nomination-neil-gorsuch\", \"title\": \"Letter to Senators Opposing the Supreme Court Nomination of Neil Gorsuch\"}, {\"date\": \"March 16, 2017\", \"link\": \"http://www.aflcio.org/about/advocacy/legislative-alerts/letter-congress-opposing-attacks-union-rights-working-people\", \"title\": \"Letter to Congress Opposing Attacks on Union Rights of Working People at the Veterans Affairs\"}, {\"date\": \"March 16, 2017\", \"link\": \"http://www.aflcio.org/about/advocacy/legislative-alerts/letter-congress-opposing-repeal-osha-rule-requiring-employers\", \"title\": \"Letter to Congress Opposing Repeal of OSHA Ru'"
      ]
     },
     "execution_count": 24,
     "metadata": {},
     "output_type": "execute_result"
    }
   ],
   "source": [
    "# And we come full circle! We encode the list we created in \n",
    "# a json string. We could then provide that over the internet\n",
    "# in our own API!!\n",
    "\n",
    "json.dumps(letters)[:1000]"
   ]
  },
  {
   "cell_type": "markdown",
   "metadata": {},
   "source": [
    "# Annex: ultra easy scraping with pandas!\n",
    "\n",
    "When the data we want is already formatted as a table, we can do it even more easily! Just use `pandas.read_html`:"
   ]
  },
  {
   "cell_type": "code",
   "execution_count": 25,
   "metadata": {
    "collapsed": true
   },
   "outputs": [],
   "source": [
    "tables = pd.read_html('https://en.wikipedia.org/wiki/List_of_accidents_and_disasters_by_death_toll', header=0)"
   ]
  },
  {
   "cell_type": "code",
   "execution_count": 26,
   "metadata": {},
   "outputs": [
    {
     "data": {
      "text/html": [
       "<div>\n",
       "<table border=\"1\" class=\"dataframe\">\n",
       "  <thead>\n",
       "    <tr style=\"text-align: right;\">\n",
       "      <th></th>\n",
       "      <th>Deaths</th>\n",
       "      <th>Date</th>\n",
       "      <th>Incident</th>\n",
       "    </tr>\n",
       "  </thead>\n",
       "  <tbody>\n",
       "    <tr>\n",
       "      <th>0</th>\n",
       "      <td>20000</td>\n",
       "      <td>000000001626-05-30-000030 May 1626</td>\n",
       "      <td>Wanggongchang Explosion in Beijing, China in t...</td>\n",
       "    </tr>\n",
       "    <tr>\n",
       "      <th>1</th>\n",
       "      <td>6000</td>\n",
       "      <td>000000001948-11-01-00001 November 1948</td>\n",
       "      <td>Boiler and ammunition explosion aboard an unid...</td>\n",
       "    </tr>\n",
       "    <tr>\n",
       "      <th>2</th>\n",
       "      <td>3000</td>\n",
       "      <td>000000001769-08-18-000018 August 1769</td>\n",
       "      <td>A lightning bolt caused the Brescia Explosion ...</td>\n",
       "    </tr>\n",
       "    <tr>\n",
       "      <th>3</th>\n",
       "      <td>1950</td>\n",
       "      <td>000000001917-12-06-00006 December 1917</td>\n",
       "      <td>Halifax Explosion in Nova Scotia, Canada[37]</td>\n",
       "    </tr>\n",
       "    <tr>\n",
       "      <th>4</th>\n",
       "      <td>1500</td>\n",
       "      <td>000000001941-06-08-00008 June 1941</td>\n",
       "      <td>Ammunition plant with facilities explode at Sm...</td>\n",
       "    </tr>\n",
       "  </tbody>\n",
       "</table>\n",
       "</div>"
      ],
      "text/plain": [
       "  Deaths                                    Date  \\\n",
       "0  20000      000000001626-05-30-000030 May 1626   \n",
       "1   6000  000000001948-11-01-00001 November 1948   \n",
       "2   3000   000000001769-08-18-000018 August 1769   \n",
       "3   1950  000000001917-12-06-00006 December 1917   \n",
       "4   1500      000000001941-06-08-00008 June 1941   \n",
       "\n",
       "                                            Incident  \n",
       "0  Wanggongchang Explosion in Beijing, China in t...  \n",
       "1  Boiler and ammunition explosion aboard an unid...  \n",
       "2  A lightning bolt caused the Brescia Explosion ...  \n",
       "3       Halifax Explosion in Nova Scotia, Canada[37]  \n",
       "4  Ammunition plant with facilities explode at Sm...  "
      ]
     },
     "execution_count": 26,
     "metadata": {},
     "output_type": "execute_result"
    }
   ],
   "source": [
    "tables[4].head()"
   ]
  },
  {
   "cell_type": "markdown",
   "metadata": {},
   "source": [
    "# Annex II: exercises"
   ]
  },
  {
   "cell_type": "markdown",
   "metadata": {},
   "source": [
    "### Exercise:\n",
    "\n",
    "Extract the date of the worst aviation disaster from: https://en.wikipedia.org/wiki/List_of_accidents_and_disasters_by_death_toll\n",
    "\n",
    "Prerequisites: pandas, pd.read_html"
   ]
  },
  {
   "cell_type": "code",
   "execution_count": null,
   "metadata": {},
   "outputs": [],
   "source": []
  },
  {
   "cell_type": "markdown",
   "metadata": {},
   "source": [
    "### Exercise: \n",
    "\n",
    "Assuming the list is exhaustive, calculate how many people died in accidental explosions per decade in the XX century. Plot it.\n",
    "\n",
    "Data: \n",
    "https://en.wikipedia.org/wiki/List_of_accidents_and_disasters_by_death_toll\n",
    "\n",
    "Prerequisites: pandas, pd.read_html, pd.to_datetime, matplotlib or seaborn"
   ]
  },
  {
   "cell_type": "code",
   "execution_count": null,
   "metadata": {
    "collapsed": true
   },
   "outputs": [],
   "source": []
  },
  {
   "cell_type": "markdown",
   "metadata": {},
   "source": [
    "### Exercise: \n",
    "\n",
    "create a function that, given the two tables extracted from http://en.wikipedia.org/wiki/List_of_S%26P_500_companies and a date, returns the list of companies in the S&P 500 at that date."
   ]
  },
  {
   "cell_type": "code",
   "execution_count": null,
   "metadata": {
    "collapsed": true
   },
   "outputs": [],
   "source": []
  }
 ],
 "metadata": {
  "kernelspec": {
   "display_name": "Python 2",
   "language": "python",
   "name": "python2"
  },
  "language_info": {
   "codemirror_mode": {
    "name": "ipython",
    "version": 2
   },
   "file_extension": ".py",
   "mimetype": "text/x-python",
   "name": "python",
   "nbconvert_exporter": "python",
   "pygments_lexer": "ipython2",
   "version": "2.7.13"
  }
 },
 "nbformat": 4,
 "nbformat_minor": 1
}
